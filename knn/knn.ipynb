{
 "cells": [
  {
   "cell_type": "code",
   "execution_count": 280,
   "metadata": {
    "collapsed": false
   },
   "outputs": [
    {
     "name": "stdout",
     "output_type": "stream",
     "text": [
      "[6, 9, 9, 4, 1, 1, 2, 7, 8, 3, 4, 7, 7, 2, 9, 9, 9, 3, 2, 6, 4, 3, 6, 6, 2, 6, 3, 5, 4, 0, 0, 9, 1, 3, 4, 0, 3, 7, 3, 3, 5, 2, 2, 7, 1, 1, 1, 2, 2, 0, 9, 5, 7, 9, 2, 2, 5, 2, 4, 3, 1, 1, 8, 2, 1, 1, 4, 9, 7, 8, 5, 9, 6, 7, 3, 1, 9, 0, 3, 1, 3, 5, 4, 5, 7, 7, 4, 7, 9, 4, 2, 3, 8, 0, 1, 6, 1, 1, 4, 1]\n"
     ]
    }
   ],
   "source": [
    "import pickle\n",
    "with open('data/data_batch_1', 'rb') as fo:\n",
    "    image_data = pickle.load(fo, encoding='bytes')\n",
    "n_samples = 100\n",
    "sampled_data = image_data[b'data'][:1000]\n",
    "sampled_labels = image_data[b'labels'][:1000]\n",
    "#data\n",
    "train_data = sampled_data[n_samples:]\n",
    "test_data = sampled_data[:n_samples]\n",
    "test_labels = sampled_labels[:n_samples]\n",
    "train_labels = sampled_labels[n_samples:]\n",
    "\n",
    "#single test instance\n",
    "test_one = test_data[0]\n",
    "test_one = test_one.reshape((1, 3072))\n",
    "test_label_one = test_labels[0]\n"
   ]
  },
  {
   "cell_type": "code",
   "execution_count": 194,
   "metadata": {
    "collapsed": false
   },
   "outputs": [],
   "source": [
    "def calculate_distance(a, b):\n",
    "    # one row [3072] length is one image pixels of 1024 red, \n",
    "    # 1024 green and 1024 blue pixels \n",
    "    # distance between two images ?\n",
    "    #a= np.array([1,2,3,4]) \n",
    "    #b = np.array([5,6,7,8])\n",
    "    distance = np.sqrt(np.sum((a-b)**2))\n",
    "    dist = np.linalg.norm(a-b)\n",
    "    return distance   \n",
    "#calculate_distance()"
   ]
  },
  {
   "cell_type": "code",
   "execution_count": 195,
   "metadata": {
    "collapsed": false
   },
   "outputs": [],
   "source": [
    "def find_neighbors(k, train_pca, test_pca):\n",
    "#     samp_train = np.array([[2, 2], [4, 4], [3, 3], [4.5,4.5], [4.9,4.9]])\n",
    "#     samp_labels = ['cats', 'fishes', 'birds', 'fishes', 'dogs']\n",
    "#     samp_test = np.array([5, 5])\n",
    "#     samp_test_labels = ['dogs']\n",
    "    distance = []\n",
    "    neighbors = []\n",
    "#    k = 3\n",
    "    for i in range(len(train_pca)):\n",
    "        distance.append((train_pca[i],calculate_distance(train_pca[i], test_pca), train_labels[i]))\n",
    "    distance.sort(key=lambda x: x[1])\n",
    "    for x in range(k):\n",
    "        neighbors.append(distance[x])\n",
    "    return neighbors\n",
    "#find_neighbors()"
   ]
  },
  {
   "cell_type": "code",
   "execution_count": 233,
   "metadata": {
    "collapsed": false
   },
   "outputs": [],
   "source": [
    "def find_class(neighbors):\n",
    "    vote_dict = {}\n",
    "    #neighbors = find_neighbors()\n",
    "    for neighbor in neighbors:\n",
    "        label = neighbor[-1]\n",
    "        distance = neighbor[1]\n",
    "        if label in vote_dict:\n",
    "            #count\n",
    "            vote_dict[label] += 1/distance\n",
    "        else:\n",
    "            vote_dict[label] = 1/distance\n",
    "    #print(vote_dict)\n",
    "    return max(vote_dict.items(), key=lambda x: x[1])[0]\n",
    "#find_class()         "
   ]
  },
  {
   "cell_type": "code",
   "execution_count": 279,
   "metadata": {
    "collapsed": false
   },
   "outputs": [
    {
     "name": "stdout",
     "output_type": "stream",
     "text": [
      "[(6, 6), (8, 9), (9, 9), (0, 4), (2, 1), (1, 1), (8, 2), (0, 7), (0, 8), (0, 3), (4, 4), (8, 7), (8, 7), (4, 2), (4, 9), (8, 9), (0, 9), (3, 3), (7, 2), (6, 6), (0, 4), (6, 3), (6, 6), (4, 6), (0, 2), (7, 6), (6, 3), (6, 5), (4, 4), (8, 0), (4, 0), (8, 9), (4, 1), (6, 3), (8, 4), (2, 0), (6, 3), (4, 7), (0, 3), (3, 3), (2, 5), (2, 2), (2, 2), (8, 7), (0, 1), (2, 1), (8, 1), (4, 2), (2, 2), (0, 0), (6, 9), (2, 5), (2, 7), (0, 9), (0, 2), (2, 2), (4, 5), (0, 2), (4, 4), (3, 3), (0, 1), (4, 1), (2, 8), (2, 2), (0, 1), (5, 1), (4, 4), (8, 9), (0, 7), (8, 8), (4, 5), (3, 9), (9, 6), (1, 7), (2, 3), (4, 1), (8, 9), (5, 0), (4, 3), (0, 1), (3, 3), (6, 5), (4, 4), (4, 5), (5, 7), (6, 7), (6, 4), (7, 7), (0, 9), (8, 4), (2, 2), (6, 3), (0, 8), (0, 0), (8, 1), (0, 6), (3, 1), (2, 1), (0, 4), (6, 1)]\n",
      "24\n"
     ]
    }
   ],
   "source": [
    "import numpy as np\n",
    "from sklearn.decomposition import PCA\n",
    "import matplotlib.pyplot as plt\n",
    "def knn(k, d, n):\n",
    "    # PCA\n",
    "    train_grayed = convert_gray(train_data, 1000-n, 1024)\n",
    "    test_grayed = convert_gray(test_data, n, 1024)\n",
    "    pca_obj, train_pca = do_pca(train_grayed, d)\n",
    "    test_pca = reduce_dimension(test_grayed, pca_obj)\n",
    "    # knn\n",
    "    labels = []\n",
    "    accuracy=0\n",
    "    for i in range(len(test_pca)):\n",
    "        neighbors = find_neighbors(k, train_pca, test_pca[i])\n",
    "        prediction = find_class(neighbors)\n",
    "        actual = test_labels[i]\n",
    "        if prediction == actual:\n",
    "            accuracy+=1\n",
    "        labels.append((prediction,actual))\n",
    "    print(labels)\n",
    "    print(accuracy)\n",
    "knn(3, 400, 100)"
   ]
  },
  {
   "cell_type": "code",
   "execution_count": 225,
   "metadata": {
    "collapsed": false,
    "scrolled": true
   },
   "outputs": [],
   "source": [
    "def convert_gray(data, row, column):\n",
    "    img = data[:]\n",
    "    grayed = np.zeros((row, column))\n",
    "\n",
    "#     print(img.dtype, img.max())\n",
    "#     img = np.reshape(img,(3,32,32))\n",
    "#     img = np.transpose(img, (1,2,0))\n",
    "#     print(img.dtype, img.max())\n",
    "    for i in range(len(img)):\n",
    "        grayed[i] = img[i][:1024]*0.299 + img[i][1024:2048]*0.587 + img[i][2048:]*0.114\n",
    "#     reshape = np.reshape(grayed[0],(32,32))\n",
    "#     plt.imshow(reshape, 'gray')\n",
    "#     plt.show()\n",
    "    return grayed"
   ]
  },
  {
   "cell_type": "code",
   "execution_count": 235,
   "metadata": {
    "collapsed": false
   },
   "outputs": [],
   "source": [
    "def do_pca(gray_data, d):\n",
    "    \n",
    "    pca = PCA(n_components=d, svd_solver='full')\n",
    "    pca_obj = pca.fit(gray_data)\n",
    "    train_pca = pca_obj.transform(gray_data)\n",
    "    #print(train_pca.shape)\n",
    "    return (pca_obj, train_pca)"
   ]
  },
  {
   "cell_type": "code",
   "execution_count": 227,
   "metadata": {
    "collapsed": true
   },
   "outputs": [],
   "source": [
    "def reduce_dimension(gray_data, pca):\n",
    "    return pca.transform(gray_data)\n",
    "    "
   ]
  },
  {
   "cell_type": "code",
   "execution_count": null,
   "metadata": {
    "collapsed": true
   },
   "outputs": [],
   "source": []
  }
 ],
 "metadata": {
  "kernelspec": {
   "display_name": "Python 3",
   "language": "python",
   "name": "python3"
  },
  "language_info": {
   "codemirror_mode": {
    "name": "ipython",
    "version": 3
   },
   "file_extension": ".py",
   "mimetype": "text/x-python",
   "name": "python",
   "nbconvert_exporter": "python",
   "pygments_lexer": "ipython3",
   "version": "3.5.2"
  }
 },
 "nbformat": 4,
 "nbformat_minor": 1
}
