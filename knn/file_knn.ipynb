{
 "cells": [
  {
   "cell_type": "code",
   "execution_count": 99,
   "metadata": {
    "collapsed": false
   },
   "outputs": [],
   "source": [
    "# file similarity using knn\n",
    "import sklearn\n",
    "import numpy as np\n"
   ]
  },
  {
   "cell_type": "code",
   "execution_count": 38,
   "metadata": {
    "collapsed": false
   },
   "outputs": [
    {
     "ename": "UnicodeDecodeError",
     "evalue": "'utf-8' codec can't decode byte 0xff in position 11597: invalid start byte",
     "output_type": "error",
     "traceback": [
      "\u001b[0;31m---------------------------------------------------------------------------\u001b[0m",
      "\u001b[0;31mUnicodeDecodeError\u001b[0m                        Traceback (most recent call last)",
      "\u001b[0;32m<ipython-input-38-5a722e7ddb02>\u001b[0m in \u001b[0;36m<module>\u001b[0;34m()\u001b[0m\n\u001b[1;32m     11\u001b[0m \u001b[0;31m#         data2=f2.read()\u001b[0m\u001b[0;34m\u001b[0m\u001b[0;34m\u001b[0m\u001b[0m\n\u001b[1;32m     12\u001b[0m \u001b[0;34m\u001b[0m\u001b[0m\n\u001b[0;32m---> 13\u001b[0;31m \u001b[0mread_data\u001b[0m\u001b[0;34m(\u001b[0m\u001b[0;34m'./49960'\u001b[0m\u001b[0;34m,\u001b[0m \u001b[0;34m'./51060'\u001b[0m\u001b[0;34m)\u001b[0m\u001b[0;34m\u001b[0m\u001b[0m\n\u001b[0m",
      "\u001b[0;32m<ipython-input-38-5a722e7ddb02>\u001b[0m in \u001b[0;36mread_data\u001b[0;34m(file1, file2)\u001b[0m\n\u001b[1;32m      3\u001b[0m \u001b[0;32mdef\u001b[0m \u001b[0mread_data\u001b[0m\u001b[0;34m(\u001b[0m\u001b[0mfile1\u001b[0m\u001b[0;34m,\u001b[0m \u001b[0mfile2\u001b[0m\u001b[0;34m)\u001b[0m\u001b[0;34m:\u001b[0m\u001b[0;34m\u001b[0m\u001b[0m\n\u001b[1;32m      4\u001b[0m     \u001b[0;32mwith\u001b[0m \u001b[0mopen\u001b[0m\u001b[0;34m(\u001b[0m\u001b[0mfile1\u001b[0m\u001b[0;34m,\u001b[0m \u001b[0;34m'rb'\u001b[0m\u001b[0;34m)\u001b[0m \u001b[0;32mas\u001b[0m \u001b[0mf1\u001b[0m\u001b[0;34m:\u001b[0m\u001b[0;34m\u001b[0m\u001b[0m\n\u001b[0;32m----> 5\u001b[0;31m         \u001b[0mdata1\u001b[0m\u001b[0;34m=\u001b[0m\u001b[0mf1\u001b[0m\u001b[0;34m.\u001b[0m\u001b[0mread\u001b[0m\u001b[0;34m(\u001b[0m\u001b[0;34m)\u001b[0m\u001b[0;34m.\u001b[0m\u001b[0mdecode\u001b[0m\u001b[0;34m(\u001b[0m\u001b[0;34m'utf-8'\u001b[0m\u001b[0;34m)\u001b[0m\u001b[0;34m\u001b[0m\u001b[0m\n\u001b[0m\u001b[1;32m      6\u001b[0m     \u001b[0mprint\u001b[0m\u001b[0;34m(\u001b[0m\u001b[0mdata1\u001b[0m\u001b[0;34m)\u001b[0m\u001b[0;34m\u001b[0m\u001b[0m\n\u001b[1;32m      7\u001b[0m     \u001b[0mwords\u001b[0m \u001b[0;34m=\u001b[0m \u001b[0mWORD\u001b[0m\u001b[0;34m.\u001b[0m\u001b[0mfindall\u001b[0m\u001b[0;34m(\u001b[0m\u001b[0mdata1\u001b[0m\u001b[0;34m)\u001b[0m\u001b[0;34m\u001b[0m\u001b[0m\n",
      "\u001b[0;31mUnicodeDecodeError\u001b[0m: 'utf-8' codec can't decode byte 0xff in position 11597: invalid start byte"
     ]
    }
   ],
   "source": [
    "# actual data loader not working\n",
    "WORD = re.compile(r'\\w+')\n",
    "def read_data(file1, file2):\n",
    "    with open(file1, 'rb') as f1:\n",
    "        data1=f1.read().decode('utf-8')\n",
    "    print(data1)\n",
    "    words = WORD.findall(data1)\n",
    "    print(words)\n",
    "    \n",
    "#     with open(file2, 'rb') as f2:\n",
    "#         data2=f2.read()\n",
    "\n",
    "read_data('./49960', './51060')"
   ]
  },
  {
   "cell_type": "code",
   "execution_count": 118,
   "metadata": {
    "collapsed": false
   },
   "outputs": [],
   "source": [
    "# load the docs and queries for sample data\n",
    "import re, math\n",
    "from collections import Counter\n",
    "\n",
    "WORD = re.compile(r'\\w+')\n",
    "\n",
    "\n",
    "def text_to_vector(docs):\n",
    "    w_to_vect = []\n",
    "    for doc in docs:\n",
    "        words = WORD.findall(doc)\n",
    "        w_to_vect.append(Counter(words))\n",
    "    return w_to_vect\n",
    "\n",
    "query = ['This is a foo bar sentence .', 'lets meet at the drinks bar']\n",
    "docs = ['Hello lets go the bar tonight', 'This sentence is similar to a foo bar sentence .']\n",
    "\n",
    "#convert the queries to word frequency counts \n",
    "v_queries = text_to_vector(query)\n",
    "v_docs = text_to_vector(docs)\n",
    "# define the class for documents\n",
    "y_docs = [1,2]"
   ]
  },
  {
   "cell_type": "code",
   "execution_count": 119,
   "metadata": {
    "collapsed": false
   },
   "outputs": [],
   "source": [
    "# calculate cosine similarity\n",
    "def calculate_similarity(vec1, vec2):\n",
    "    intersection = set(vec1.keys()) & set(vec2.keys())   \n",
    "    numerator = sum([vec1[x] * vec2[x] for x in intersection])\n",
    "    sum1 = sum([vec1[x]**2 for x in vec1.keys()])\n",
    "    sum2 = sum([vec2[x]**2 for x in vec2.keys()])\n",
    "    denominator = math.sqrt(sum1) * math.sqrt(sum2)\n",
    "\n",
    "    if not denominator:\n",
    "        return 0.0\n",
    "    else:\n",
    "        return float(numerator) / denominator"
   ]
  },
  {
   "cell_type": "code",
   "execution_count": 120,
   "metadata": {
    "collapsed": false
   },
   "outputs": [],
   "source": [
    "# Given a set of docs, find the nearest neighbors \n",
    "# and return the similarity array for a query\n",
    "def find_neighbors(v_query, v_docs):\n",
    "    similarity = []\n",
    "    for v_doc in v_docs:\n",
    "        similarity.append(1-calculate_similarity(v_query, v_doc))\n",
    "    return np.array(similarity)"
   ]
  },
  {
   "cell_type": "code",
   "execution_count": 121,
   "metadata": {
    "collapsed": false
   },
   "outputs": [
    {
     "data": {
      "text/plain": [
       "[2, 1]"
      ]
     },
     "execution_count": 121,
     "metadata": {},
     "output_type": "execute_result"
    }
   ],
   "source": [
    "# find the predicted class for set of n queries \n",
    "def find_class(k, v_queries, v_docs, y_docs):\n",
    "    y_pred = []\n",
    "    for v_query in v_queries:\n",
    "        vote_dict = dict()\n",
    "        sim_docs = find_neighbors(v_query, v_docs)\n",
    "        k_sim_docs = np.argpartition(sim_docs, k-1)[:k]\n",
    "        for sim in k_sim_docs:\n",
    "            if y_docs[sim] not in vote_dict:\n",
    "                vote_dict[y_docs[sim]] = 0\n",
    "            vote_dict[y_docs[sim]] += 1/sim_docs[sim]\n",
    "        y_pred.append(max(vote_dict.items(), key=lambda x: x[1])[0])\n",
    "    return y_pred   \n",
    "\n",
    "# k =1 (1-NN)\n",
    "# v_queries - array of word freq counter for each quries\n",
    "# v_docs - array of word freq counter for each docs\n",
    "# y_docs - class labels for the docs\n",
    "find_class(1, v_queries, v_docs, y_docs)"
   ]
  },
  {
   "cell_type": "code",
   "execution_count": null,
   "metadata": {
    "collapsed": true
   },
   "outputs": [],
   "source": []
  },
  {
   "cell_type": "code",
   "execution_count": null,
   "metadata": {
    "collapsed": true
   },
   "outputs": [],
   "source": []
  }
 ],
 "metadata": {
  "kernelspec": {
   "display_name": "Python 3",
   "language": "python",
   "name": "python3"
  },
  "language_info": {
   "codemirror_mode": {
    "name": "ipython",
    "version": 3
   },
   "file_extension": ".py",
   "mimetype": "text/x-python",
   "name": "python",
   "nbconvert_exporter": "python",
   "pygments_lexer": "ipython3",
   "version": "3.5.2"
  }
 },
 "nbformat": 4,
 "nbformat_minor": 1
}
